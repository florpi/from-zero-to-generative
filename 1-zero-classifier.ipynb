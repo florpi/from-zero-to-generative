{
 "cells": [
  {
   "cell_type": "markdown",
   "metadata": {},
   "source": [
    "[![Open In Colab](https://colab.research.google.com/assets/colab-badge.svg)](https://colab.research.google.com/github/florpi/from-zero-to-generative/blob/main/1-zero-classifier.ipynb)"
   ]
  },
  {
   "cell_type": "markdown",
   "metadata": {},
   "source": [
    "## 🛠️ Setting Up Our Toolbox\n",
    "\n",
    "We'll be using the following packages throughout this notebook:\n",
    "\n",
    "- `jax`: Our high-performance numerical computing library \n",
    "- `flax`: A neural network library designed for flexibility\n",
    "- `optax`: Optimizers for JAX\n",
    "- `numpy`: The swiss army knife of numerical computing\n",
    "- `matplotlib`: For visualizing our creations\n",
    "\n",
    "Let's install them all in one go:"
   ]
  },
  {
   "cell_type": "code",
   "execution_count": 2,
   "metadata": {},
   "outputs": [],
   "source": [
    "#!pip install jax jaxlib flax torchvision torch"
   ]
  },
  {
   "cell_type": "code",
   "execution_count": 3,
   "metadata": {},
   "outputs": [
    {
     "name": "stdout",
     "output_type": "stream",
     "text": [
      "[cuda(id=0)]\n"
     ]
    }
   ],
   "source": [
    "# as opposed to pytorch, jax handles device placement automatically\n",
    "# Now let's check wehther you are actually using a gpu, if so, the output should be a cuda id, otherwise you are using a cpu\n",
    "import jax\n",
    "print(jax.devices())"
   ]
  },
  {
   "cell_type": "markdown",
   "metadata": {},
   "source": [
    "## 🔢 Training a Digit Classifier: Decoding Doctor's Handwriting\n",
    "\n",
    "Ever squinted at a prescription, trying to decipher if that's a 5 or a 6? You're not alone! Doctors' notoriously illegible handwriting has been the subject of jokes and genuine concern for years. Our task is to create a handwritten digit classifier using machine learning. \n",
    "\n"
   ]
  },
  {
   "cell_type": "markdown",
   "metadata": {},
   "source": [
    "## 🧱 Building Block #1: The Data\n",
    "\n",
    "Every great AI needs a solid foundation, and in machine learning, that foundation is data. Machine Learning has been largely shaped by benchmarks - standardized datasets that serve as proving grounds for new algorithms. These datasets, along with their associated metrics, have driven the field forward by providing common challenges for researchers to tackle. Today, we'll be working with the MNIST dataset - the \"Hello World\" of machine learning. \n",
    "\n",
    "> 🎓 **MNIST History**: MNIST (Modified National Institute of Standards and Technology database) is a large database of handwritten digits that has been used for training and testing in the field of machine learning since its creation in 1998. It's often called the \"Drosophila of machine learning\" - just as the fruit fly is a model organism in biology!\n",
    "\n",
    "### 🎨 Other Exciting Datasets\n",
    "\n",
    "Once you've mastered MNIST, here are some other fun datasets you might want to explore:\n",
    "\n",
    "- 😀 [FER2013](https://pytorch.org/vision/main/generated/torchvision.datasets.FER2013.html): For those interested in facial expressions\n",
    "- ✍️ [KMNIST](https://pytorch.org/vision/main/generated/torchvision.datasets.KMNIST.html): Beautiful cursive Japanese characters\n",
    "- 🍔 [Food101](https://pytorch.org/vision/main/generated/torchvision.datasets.Food101.html): For the foodies out there\n",
    "- 🦁 [INaturalist](https://pytorch.org/vision/main/generated/torchvision.datasets.INaturalist.html): A treasure trove for nature lovers\n",
    "\n",
    "### 🚀 Ready for the Big Leagues?\n",
    "\n",
    "If you're itching to apply generative models to scientific problems, check out the CAMELS suite of astrophysical simulations. \n",
    "\n",
    "---\n",
    "\n",
    "Ready to start building with our MNIST building blocks? Let's dive in! 🏗️💻"
   ]
  },
  {
   "cell_type": "code",
   "execution_count": 4,
   "metadata": {},
   "outputs": [],
   "source": [
    "import torchvision\n",
    "import torchvision.transforms as transforms\n",
    "import numpy as np\n",
    "import jax.numpy as jnp\n",
    "\n",
    "# These transformations are applied to the data as it is loaded, do not worry too much about them, but I leave some explanations on why they are there for you to understand in case you are curious / confused\n",
    "transform = transforms.Compose(\n",
    "    (\n",
    "        transforms.ToTensor(), # This will transform the original data format of the images into pytorch tensors, so that we can use the Normalize transform on them \n",
    "        transforms.Normalize((0.5,), (0.5,)), # The images are originally scaled between 0 and 1, but generative models would usually standarize them to have 0 mean and 1 std\n",
    "        transforms.Lambda(lambda x: np.transpose(np.array(x), (1,2,0))), # we will convert pytorch tensors into jax obejects. An odd distinction between jax and pytorch is how they assume\n",
    "        # image data is loaded. For pytorch an image has shape (n_channels, n_pixels, n_pixels) whereas for jax it should be (n_pixels, n_pixels, n_channels), hence the transpose...\n",
    "    )\n",
    ")\n",
    "# Now we will create a dataset that can download and obtain the data we want\n",
    "train_dataset = torchvision.datasets.MNIST(root='./data', train=True, download=True, transform=transform)\n"
   ]
  },
  {
   "cell_type": "code",
   "execution_count": 5,
   "metadata": {},
   "outputs": [],
   "source": [
    "# this is how we can get one example from our dataset\n",
    "image, target = train_dataset[0]"
   ]
  },
  {
   "cell_type": "code",
   "execution_count": 6,
   "metadata": {},
   "outputs": [
    {
     "data": {
      "text/plain": [
       "5"
      ]
     },
     "execution_count": 6,
     "metadata": {},
     "output_type": "execute_result"
    }
   ],
   "source": [
    "# the label of the example\n",
    "target"
   ]
  },
  {
   "cell_type": "code",
   "execution_count": 7,
   "metadata": {},
   "outputs": [
    {
     "data": {
      "text/plain": [
       "(28, 28, 1)"
      ]
     },
     "execution_count": 7,
     "metadata": {},
     "output_type": "execute_result"
    }
   ],
   "source": [
    "# the shape of the example. This is an image with one channel (grayscale) and 28 pixels\n",
    "\n",
    "image.shape"
   ]
  },
  {
   "cell_type": "code",
   "execution_count": 8,
   "metadata": {},
   "outputs": [
    {
     "data": {
      "text/plain": [
       "Text(0.5, 1.0, 'Target = 5')"
      ]
     },
     "execution_count": 8,
     "metadata": {},
     "output_type": "execute_result"
    },
    {
     "data": {
      "image/png": "[encoded data removed]",
      "text/plain": [
       "<Figure size 640x480 with 1 Axes>"
      ]
     },
     "metadata": {},
     "output_type": "display_data"
    }
   ],
   "source": [
    "# and let's have a look at the image using matplotlib, feel free to visualize others by changing the index here:\n",
    "# #TODO always check your data loader and make sure the labels seem sensible by visual inspection\n",
    "index = 0\n",
    "image, target = train_dataset[index]\n",
    "\n",
    "import matplotlib.pyplot as plt\n",
    "plt.imshow(image[:,:,0], cmap='gray')\n",
    "plt.title(f'Target = {target}')"
   ]
  },
  {
   "cell_type": "code",
   "execution_count": 9,
   "metadata": {},
   "outputs": [],
   "source": [
    "# but we want to get batches (groups) of examples from the training set, for that we will need a data loader that randomly loads batches of examples:\n",
    "from torch.utils.data import DataLoader\n",
    "batch_size = 64 #128\n",
    "train_dataloader = DataLoader(train_dataset, batch_size=batch_size, shuffle=True, drop_last=True)\n",
    "\n",
    "train_loader = iter(train_dataloader)"
   ]
  },
  {
   "cell_type": "code",
   "execution_count": 10,
   "metadata": {},
   "outputs": [],
   "source": [
    "# Now when we call batch, we get a fresh batch of data and labels\n",
    "x_batch, y_batch = next(train_loader)"
   ]
  },
  {
   "cell_type": "code",
   "execution_count": 11,
   "metadata": {},
   "outputs": [
    {
     "data": {
      "text/plain": [
       "torch.Size([64, 28, 28, 1])"
      ]
     },
     "execution_count": 11,
     "metadata": {},
     "output_type": "execute_result"
    }
   ],
   "source": [
    "x_batch.shape"
   ]
  },
  {
   "cell_type": "markdown",
   "metadata": {},
   "source": [
    "## 🏗️ Building Block #2: The Model Architecture\n",
    "\n",
    "Now that we have our data foundation, it's time to design the structure of our model. For our first venture into the world of neural architectures, we're going to keep things elegantly simple. We'll be constructing a Fully Connected Network, also known as a Dense Network or Multi-Layer Perceptron (MLP).\n",
    "\n"
   ]
  },
  {
   "cell_type": "code",
   "execution_count": 12,
   "metadata": {},
   "outputs": [],
   "source": [
    "#TODO : Fill in architecture\n",
    "import flax.linen as nn\n",
    "\n",
    "class MLP(nn.Module):\n",
    "    @nn.compact\n",
    "    def __call__(self, x):\n",
    "        x = x.reshape((x.shape[0], -1))  # Flatten the input\n",
    "        # linear transformation\n",
    "        x = nn.Dense(features=512)(x)\n",
    "        # non-linear activation function\n",
    "        x = nn.silu(x)\n",
    "        x = nn.Dense(features=256)(x)\n",
    "        x = nn.silu(x)\n",
    "        x = nn.Dense(features=10)(x)\n",
    "        return x\n",
    "\n",
    "model = MLP()"
   ]
  },
  {
   "cell_type": "markdown",
   "metadata": {},
   "source": [
    "### 🎲 Initializing the Parameters\n",
    "\n",
    "Our neural network now needs its parameters (weights and biases) initialized properly. This is crucial because:\n",
    "\n",
    "- Good initialization can help our model learn faster\n",
    "- It can prevent issues like vanishing or exploding gradients\n",
    "- Different initializations can lead to different final performances\n",
    "\n",
    "### 🔮 JAX's Magic: Shape Inference and Initialization\n",
    "\n",
    "JAX comes with some nifty features that make building and initializing networks easy peasy:\n",
    "\n",
    "1. **Shape Inference**: \n",
    "   - JAX can automatically figure out the shapes of your layers\n",
    "   - You often only need to specify the output size of each layer\n",
    "\n",
    "2. **Easy Initialization**:\n",
    "   - JAX provides initialization functions in `jax.nn.initializers`\n",
    "   - These functions create initializer closures that JAX uses to set initial parameter values\n",
    "\n",
    "All we need is an example input, it doesn't matter its content, only its shape"
   ]
  },
  {
   "cell_type": "code",
   "execution_count": 13,
   "metadata": {},
   "outputs": [],
   "source": [
    "\n",
    "example_input = jnp.ones((1,28,28,1))\n",
    "params = model.init(jax.random.PRNGKey(0), example_input)  # Example input for shape inference\n"
   ]
  },
  {
   "cell_type": "code",
   "execution_count": 14,
   "metadata": {},
   "outputs": [
    {
     "data": {
      "text/plain": [
       "{'params': {'Dense_0': {'kernel': Array([[-0.03913071,  0.05444214,  0.04740295, ...,  0.06523018,\n",
       "            0.01198721,  0.08043633],\n",
       "          [ 0.01668966, -0.00612889,  0.00993335, ..., -0.02016362,\n",
       "            0.04787786,  0.05100662],\n",
       "          [-0.04086368,  0.05011395, -0.00382218, ...,  0.03551806,\n",
       "            0.00043432,  0.01461799],\n",
       "          ...,\n",
       "          [ 0.00547553, -0.02139576,  0.03528887, ..., -0.06179288,\n",
       "            0.02263864, -0.02301445],\n",
       "          [ 0.03864831, -0.00599695,  0.00455287, ...,  0.00773665,\n",
       "           -0.04161146, -0.03113718],\n",
       "          [-0.08020224, -0.06572444, -0.06583147, ..., -0.04730775,\n",
       "           -0.01103787,  0.02308792]], dtype=float32),\n",
       "   'bias': Array([0., 0., 0., 0., 0., 0., 0., 0., 0., 0., 0., 0., 0., 0., 0., 0., 0.,\n",
       "          0., 0., 0., 0., 0., 0., 0., 0., 0., 0., 0., 0., 0., 0., 0., 0., 0.,\n",
       "          0., 0., 0., 0., 0., 0., 0., 0., 0., 0., 0., 0., 0., 0., 0., 0., 0.,\n",
       "          0., 0., 0., 0., 0., 0., 0., 0., 0., 0., 0., 0., 0., 0., 0., 0., 0.,\n",
       "          0., 0., 0., 0., 0., 0., 0., 0., 0., 0., 0., 0., 0., 0., 0., 0., 0.,\n",
       "          0., 0., 0., 0., 0., 0., 0., 0., 0., 0., 0., 0., 0., 0., 0., 0., 0.,\n",
       "          0., 0., 0., 0., 0., 0., 0., 0., 0., 0., 0., 0., 0., 0., 0., 0., 0.,\n",
       "          0., 0., 0., 0., 0., 0., 0., 0., 0., 0., 0., 0., 0., 0., 0., 0., 0.,\n",
       "          0., 0., 0., 0., 0., 0., 0., 0., 0., 0., 0., 0., 0., 0., 0., 0., 0.,\n",
       "          0., 0., 0., 0., 0., 0., 0., 0., 0., 0., 0., 0., 0., 0., 0., 0., 0.,\n",
       "          0., 0., 0., 0., 0., 0., 0., 0., 0., 0., 0., 0., 0., 0., 0., 0., 0.,\n",
       "          0., 0., 0., 0., 0., 0., 0., 0., 0., 0., 0., 0., 0., 0., 0., 0., 0.,\n",
       "          0., 0., 0., 0., 0., 0., 0., 0., 0., 0., 0., 0., 0., 0., 0., 0., 0.,\n",
       "          0., 0., 0., 0., 0., 0., 0., 0., 0., 0., 0., 0., 0., 0., 0., 0., 0.,\n",
       "          0., 0., 0., 0., 0., 0., 0., 0., 0., 0., 0., 0., 0., 0., 0., 0., 0.,\n",
       "          0., 0., 0., 0., 0., 0., 0., 0., 0., 0., 0., 0., 0., 0., 0., 0., 0.,\n",
       "          0., 0., 0., 0., 0., 0., 0., 0., 0., 0., 0., 0., 0., 0., 0., 0., 0.,\n",
       "          0., 0., 0., 0., 0., 0., 0., 0., 0., 0., 0., 0., 0., 0., 0., 0., 0.,\n",
       "          0., 0., 0., 0., 0., 0., 0., 0., 0., 0., 0., 0., 0., 0., 0., 0., 0.,\n",
       "          0., 0., 0., 0., 0., 0., 0., 0., 0., 0., 0., 0., 0., 0., 0., 0., 0.,\n",
       "          0., 0., 0., 0., 0., 0., 0., 0., 0., 0., 0., 0., 0., 0., 0., 0., 0.,\n",
       "          0., 0., 0., 0., 0., 0., 0., 0., 0., 0., 0., 0., 0., 0., 0., 0., 0.,\n",
       "          0., 0., 0., 0., 0., 0., 0., 0., 0., 0., 0., 0., 0., 0., 0., 0., 0.,\n",
       "          0., 0., 0., 0., 0., 0., 0., 0., 0., 0., 0., 0., 0., 0., 0., 0., 0.,\n",
       "          0., 0., 0., 0., 0., 0., 0., 0., 0., 0., 0., 0., 0., 0., 0., 0., 0.,\n",
       "          0., 0., 0., 0., 0., 0., 0., 0., 0., 0., 0., 0., 0., 0., 0., 0., 0.,\n",
       "          0., 0., 0., 0., 0., 0., 0., 0., 0., 0., 0., 0., 0., 0., 0., 0., 0.,\n",
       "          0., 0., 0., 0., 0., 0., 0., 0., 0., 0., 0., 0., 0., 0., 0., 0., 0.,\n",
       "          0., 0., 0., 0., 0., 0., 0., 0., 0., 0., 0., 0., 0., 0., 0., 0., 0.,\n",
       "          0., 0., 0., 0., 0., 0., 0., 0., 0., 0., 0., 0., 0., 0., 0., 0., 0.,\n",
       "          0., 0.], dtype=float32)},\n",
       "  'Dense_1': {'kernel': Array([[ 0.06546995, -0.01212773, -0.02535369, ..., -0.04385953,\n",
       "           -0.07569287,  0.02325617],\n",
       "          [ 0.00401654, -0.03348659, -0.07511988, ..., -0.06028131,\n",
       "           -0.0993429 ,  0.05014414],\n",
       "          [-0.02597844,  0.09249485,  0.03278944, ...,  0.07117671,\n",
       "            0.01043045,  0.01425371],\n",
       "          ...,\n",
       "          [ 0.03631759,  0.00178938,  0.03067016, ..., -0.01579887,\n",
       "           -0.07995403,  0.09758548],\n",
       "          [-0.05048203,  0.02447869, -0.00090143, ...,  0.01050487,\n",
       "            0.06671581, -0.08261661],\n",
       "          [-0.05051202, -0.00037245,  0.00223257, ...,  0.01344174,\n",
       "           -0.06193079,  0.06271353]], dtype=float32),\n",
       "   'bias': Array([0., 0., 0., 0., 0., 0., 0., 0., 0., 0., 0., 0., 0., 0., 0., 0., 0.,\n",
       "          0., 0., 0., 0., 0., 0., 0., 0., 0., 0., 0., 0., 0., 0., 0., 0., 0.,\n",
       "          0., 0., 0., 0., 0., 0., 0., 0., 0., 0., 0., 0., 0., 0., 0., 0., 0.,\n",
       "          0., 0., 0., 0., 0., 0., 0., 0., 0., 0., 0., 0., 0., 0., 0., 0., 0.,\n",
       "          0., 0., 0., 0., 0., 0., 0., 0., 0., 0., 0., 0., 0., 0., 0., 0., 0.,\n",
       "          0., 0., 0., 0., 0., 0., 0., 0., 0., 0., 0., 0., 0., 0., 0., 0., 0.,\n",
       "          0., 0., 0., 0., 0., 0., 0., 0., 0., 0., 0., 0., 0., 0., 0., 0., 0.,\n",
       "          0., 0., 0., 0., 0., 0., 0., 0., 0., 0., 0., 0., 0., 0., 0., 0., 0.,\n",
       "          0., 0., 0., 0., 0., 0., 0., 0., 0., 0., 0., 0., 0., 0., 0., 0., 0.,\n",
       "          0., 0., 0., 0., 0., 0., 0., 0., 0., 0., 0., 0., 0., 0., 0., 0., 0.,\n",
       "          0., 0., 0., 0., 0., 0., 0., 0., 0., 0., 0., 0., 0., 0., 0., 0., 0.,\n",
       "          0., 0., 0., 0., 0., 0., 0., 0., 0., 0., 0., 0., 0., 0., 0., 0., 0.,\n",
       "          0., 0., 0., 0., 0., 0., 0., 0., 0., 0., 0., 0., 0., 0., 0., 0., 0.,\n",
       "          0., 0., 0., 0., 0., 0., 0., 0., 0., 0., 0., 0., 0., 0., 0., 0., 0.,\n",
       "          0., 0., 0., 0., 0., 0., 0., 0., 0., 0., 0., 0., 0., 0., 0., 0., 0.,\n",
       "          0.], dtype=float32)},\n",
       "  'Dense_2': {'kernel': Array([[-0.0632513 , -0.02526655, -0.04883526, ..., -0.05167512,\n",
       "           -0.00742359,  0.13940705],\n",
       "          [-0.07512675,  0.08331932,  0.04655306, ...,  0.01564273,\n",
       "            0.01556475,  0.06354952],\n",
       "          [ 0.12001174, -0.04646188, -0.08681512, ..., -0.02226412,\n",
       "           -0.08683471, -0.00911091],\n",
       "          ...,\n",
       "          [-0.0823307 ,  0.03280719,  0.10680978, ..., -0.02073779,\n",
       "            0.00239843, -0.0050267 ],\n",
       "          [ 0.06246622, -0.00151152, -0.1401323 , ..., -0.10955028,\n",
       "           -0.04994133, -0.13786425],\n",
       "          [ 0.04022473, -0.03440472,  0.08008717, ..., -0.07981214,\n",
       "           -0.05066618, -0.04109379]], dtype=float32),\n",
       "   'bias': Array([0., 0., 0., 0., 0., 0., 0., 0., 0., 0.], dtype=float32)}}}"
      ]
     },
     "execution_count": 14,
     "metadata": {},
     "output_type": "execute_result"
    }
   ],
   "source": [
    "# let's look at params, it should be a dictionary containing the parameters' names and values\n",
    "params"
   ]
  },
  {
   "cell_type": "code",
   "execution_count": 15,
   "metadata": {},
   "outputs": [],
   "source": [
    "# Let's now see how the neural network output looks like:\n",
    "# the way models are called are through the apply function, that takes the parameters as an argument, and the inputs to the neural network. In this case, our images\n",
    "y = model.apply(params, x_batch)"
   ]
  },
  {
   "cell_type": "code",
   "execution_count": 16,
   "metadata": {},
   "outputs": [
    {
     "data": {
      "text/plain": [
       "(64, 10)"
      ]
     },
     "execution_count": 16,
     "metadata": {},
     "output_type": "execute_result"
    }
   ],
   "source": [
    "# so it will output the probability of each class\n",
    "y.shape"
   ]
  },
  {
   "cell_type": "code",
   "execution_count": 17,
   "metadata": {},
   "outputs": [
    {
     "data": {
      "text/plain": [
       "(784, 512)"
      ]
     },
     "execution_count": 17,
     "metadata": {},
     "output_type": "execute_result"
    }
   ],
   "source": [
    "# You can have a look at the shape of the parameters of the first layer in the neural network, the Dense_0 layer\n",
    "params['params']['Dense_0']['kernel'].shape"
   ]
  },
  {
   "cell_type": "code",
   "execution_count": 18,
   "metadata": {},
   "outputs": [
    {
     "data": {
      "text/plain": [
       "(array([  0.,   0.,   0.,   0.,   0.,   0.,   0.,   0.,   0.,   0., 512.,\n",
       "          0.,   0.,   0.,   0.,   0.,   0.,   0.,   0.,   0.]),\n",
       " array([-0.5       , -0.44999999, -0.40000001, -0.34999999, -0.30000001,\n",
       "        -0.25      , -0.2       , -0.15000001, -0.1       , -0.05      ,\n",
       "         0.        ,  0.05      ,  0.1       ,  0.15000001,  0.2       ,\n",
       "         0.25      ,  0.30000001,  0.34999999,  0.40000001,  0.44999999,\n",
       "         0.5       ]),\n",
       " <BarContainer object of 20 artists>)"
      ]
     },
     "execution_count": 18,
     "metadata": {},
     "output_type": "execute_result"
    },
    {
     "data": {
      "image/png": "[encoded data removed]",
      "text/plain": [
       "<Figure size 640x480 with 1 Axes>"
      ]
     },
     "metadata": {},
     "output_type": "display_data"
    }
   ],
   "source": [
    "# let's look at the histograms of some of parameter values, that will show us how they were initialized\n",
    "# so it looks like the biases were initialized to 0, but not the kernels , that seem to be Gaussian distributed\n",
    "plt.hist(params['params']['Dense_0']['kernel'][0], bins=20, alpha=0.5,)\n",
    "plt.hist(params['params']['Dense_0']['kernel'][10], bins=20, alpha=0.5,)\n",
    "plt.hist(params['params']['Dense_0']['bias'], bins=20, alpha=0.5,)"
   ]
  },
  {
   "cell_type": "markdown",
   "metadata": {},
   "source": [
    "## 📐 Building Block #3: The Loss Function\n",
    "\n",
    "Now that we've laid out our neural network's structure, we need a way to measure how well it's performing.\n",
    "\n",
    "### 🎯 Cross-Entropy Loss\n",
    "\n",
    "For our digit classification task, we'll use the cross-entropy loss. This is the go-to loss function for multi-class classification problems like ours.\n",
    "\n",
    "$$ L = -\\sum_{i=1}^{C} y_i \\log(\\hat{y}_i) $$\n",
    "\n",
    "Where:\n",
    "- $L$ is the loss\n",
    "- $C$ is the number of classes (in our case, 10 digits)\n",
    "- $y_i$ is the true probability of class $i$ (1 for the correct digit, 0 for others)\n",
    "- $\\hat{y}_i$ is the predicted probability of class $i$\n",
    "\n",
    "In practice, $y$ is usually a one-hot encoded vector, and $\\hat{y}$ comes from applying softmax to our model's output.\n",
    "\n"
   ]
  },
  {
   "cell_type": "code",
   "execution_count": 19,
   "metadata": {},
   "outputs": [],
   "source": [
    "#TODO: Fill in loss function\n",
    "def cross_entropy_loss(logits, labels):\n",
    "    one_hot = jax.nn.one_hot(labels, num_classes=10)\n",
    "    return -jnp.mean(jnp.sum(one_hot * jax.nn.log_softmax(logits), axis=-1))\n"
   ]
  },
  {
   "cell_type": "markdown",
   "metadata": {},
   "source": [
    "## 🔧 Building Block #4: The Optimizer\n",
    "\n",
    "Now we need to be able to fine-tune the parameters of our neural network such that we can minimize the loss function. An optimizer is an algorithm that adjusts the parameters of our model to minimize the loss. \n",
    "\n",
    "### 💡 Popular Optimizers\n",
    "\n",
    "While there are many optimizers out there, we'll focus on two common choices:\n",
    "\n",
    "1. **Stochastic Gradient Descent (SGD)**: The classic choice. Simple but effective.\n",
    "2. **Adam**: An adaptive method that often converges faster. It's like SGD with superpowers!\n",
    "\n"
   ]
  },
  {
   "cell_type": "code",
   "execution_count": 20,
   "metadata": {},
   "outputs": [],
   "source": [
    "\n",
    "import optax\n",
    "\n",
    "learning_rate = 1.e-3\n",
    "optimizer = optax.adam(learning_rate)\n",
    "opt_state = optimizer.init(params)"
   ]
  },
  {
   "cell_type": "code",
   "execution_count": 21,
   "metadata": {},
   "outputs": [],
   "source": [
    "# The training step (run with and without jax.jit to see the difference in speed)\n",
    "# It computes the loss, and uses its gradients to update the parameters\n",
    "\n",
    "@jax.jit\n",
    "def train_step(params, opt_state, batch):\n",
    "    images, labels = batch\n",
    "    def loss_fn(params):\n",
    "        logits = model.apply(params, images)\n",
    "        loss = cross_entropy_loss(logits, labels)\n",
    "        return loss\n",
    "    loss, grads = jax.value_and_grad(loss_fn)(params)\n",
    "    updates, opt_state = optimizer.update(grads, opt_state)\n",
    "    params = optax.apply_updates(params, updates)\n",
    "    return params, opt_state, loss\n",
    "\n"
   ]
  },
  {
   "cell_type": "code",
   "execution_count": 22,
   "metadata": {},
   "outputs": [
    {
     "name": "stderr",
     "output_type": "stream",
     "text": [
      "Training:   0%|          | 0/1000 [00:00<?, ?step/s]"
     ]
    },
    {
     "name": "stderr",
     "output_type": "stream",
     "text": [
      "Training: 100%|██████████| 1000/1000 [00:19<00:00, 51.24step/s, loss=0.11832994]\n"
     ]
    }
   ],
   "source": [
    "from tqdm import tqdm\n",
    "\n",
    "# Training loop in terms of steps\n",
    "num_steps = 1_000\n",
    "\n",
    "\n",
    "train_loss = []\n",
    "\n",
    "with tqdm(total=num_steps, desc='Training', unit='step') as pbar:\n",
    "    for step in range(num_steps):\n",
    "        try:\n",
    "            images, labels = next(train_loader)\n",
    "        except StopIteration:\n",
    "            # Once the dataset is empty, we will reinitialize the data loader to keep training\n",
    "            train_loader = iter(train_dataloader)\n",
    "            images, labels = next(train_loader)\n",
    "        images, labels = jnp.array(images), jnp.array(labels)\n",
    "\n",
    "        params, opt_state, loss = train_step(params, opt_state, (images, labels))\n",
    "        train_loss.append(loss)\n",
    "        pbar.set_postfix(loss=loss)\n",
    "        pbar.update(1)\n"
   ]
  },
  {
   "cell_type": "code",
   "execution_count": 23,
   "metadata": {},
   "outputs": [
    {
     "data": {
      "text/plain": [
       "[<matplotlib.lines.Line2D at 0x148c0cd32110>]"
      ]
     },
     "execution_count": 23,
     "metadata": {},
     "output_type": "execute_result"
    },
    {
     "data": {
      "image/png": "[encoded data removed]",
      "text/plain": [
       "<Figure size 640x480 with 1 Axes>"
      ]
     },
     "metadata": {},
     "output_type": "display_data"
    }
   ],
   "source": [
    "plt.plot(train_loss)"
   ]
  },
  {
   "cell_type": "markdown",
   "metadata": {},
   "source": [
    "Now we will use an independent test set to asses how good our model truly is"
   ]
  },
  {
   "cell_type": "code",
   "execution_count": 24,
   "metadata": {},
   "outputs": [],
   "source": [
    "test_dataset = torchvision.datasets.MNIST(root='./data', train=False, download=True, transform=transform)\n",
    "test_loader = DataLoader(test_dataset, batch_size=100, shuffle=False)\n"
   ]
  },
  {
   "cell_type": "code",
   "execution_count": 25,
   "metadata": {},
   "outputs": [
    {
     "name": "stdout",
     "output_type": "stream",
     "text": [
      "Final Test Accuracy: 96.62%\n"
     ]
    }
   ],
   "source": [
    "# Final evaluation on the test set\n",
    "# TODO: compute accuracy\n",
    "test_accuracy = 0\n",
    "num_batches = 0\n",
    "for batch in test_loader:\n",
    "    images, labels = batch\n",
    "    images, labels = jnp.array(images), jnp.array(labels)\n",
    "    logits = model.apply(params, images)\n",
    "    probability = jax.nn.softmax(logits)\n",
    "    predictions = jnp.argmax(logits, axis=-1)\n",
    "    test_accuracy += jnp.mean(predictions == labels)\n",
    "    num_batches += 1\n",
    "test_accuracy /= num_batches\n",
    "print(f'Final Test Accuracy: {test_accuracy * 100:.2f}%')"
   ]
  },
  {
   "cell_type": "code",
   "execution_count": 26,
   "metadata": {},
   "outputs": [
    {
     "data": {
      "image/png": "[encoded data removed]",
      "text/plain": [
       "<Figure size 1000x1500 with 10 Axes>"
      ]
     },
     "metadata": {},
     "output_type": "display_data"
    }
   ],
   "source": [
    "# let's look at the output probabilities\n",
    "fig, axs = plt.subplots(5, 2, figsize=(10, 15))\n",
    "\n",
    "for i in range(10):\n",
    "    img = images[i][:,:,0]\n",
    "    label = labels[i]\n",
    "    prob = probability[i]\n",
    "    ax = axs[i // 2, i % 2]\n",
    "    ax.imshow(img.squeeze(), cmap='gray')\n",
    "    ax.axis('off')\n",
    "    ax.set_title(f'Label: {label}')\n",
    "    \n",
    "    # Create a new axis for the probability bar plot\n",
    "    ax_prob = ax.inset_axes([1.1, 0.1, 0.8, 0.8])  # Adjust position and size as needed\n",
    "    ax_prob.bar(range(10), prob)\n",
    "    ax_prob.set_xticks(range(10))\n",
    "    ax_prob.set_ylim(0, 1)\n",
    "    ax_prob.set_title('Probabilities')\n",
    "\n",
    "#plt.tight_layout()\n",
    "plt.show()"
   ]
  },
  {
   "cell_type": "markdown",
   "metadata": {},
   "source": [
    "Extra question: how would you assess whether the probability outputs themselves are meaningful (i.e., are well callibrated?) "
   ]
  },
  {
   "cell_type": "markdown",
   "metadata": {},
   "source": []
  },
  {
   "cell_type": "markdown",
   "metadata": {},
   "source": []
  },
  {
   "cell_type": "markdown",
   "metadata": {},
   "source": []
  }
 ],
 "metadata": {
  "kernelspec": {
   "display_name": "Python 3",
   "language": "python",
   "name": "python3"
  },
  "language_info": {
   "codemirror_mode": {
    "name": "ipython",
    "version": 3
   },
   "file_extension": ".py",
   "mimetype": "text/x-python",
   "name": "python",
   "nbconvert_exporter": "python",
   "pygments_lexer": "ipython3",
   "version": "3.10.13"
  }
 },
 "nbformat": 4,
 "nbformat_minor": 2
}
